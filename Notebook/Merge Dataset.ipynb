{
 "cells": [
  {
   "cell_type": "code",
   "execution_count": 2,
   "id": "7c7142c3-69ef-4554-8923-ee87a521dea8",
   "metadata": {},
   "outputs": [],
   "source": [
    "# import pandas for importing dataset\n",
    "\n",
    "import pandas as pd\n",
    "import numpy as np\n",
    "\n",
    "# filter depreciation and future warning\n",
    "import warnings\n",
    "warnings.filterwarnings('ignore', category=DeprecationWarning)\n",
    "warnings.filterwarnings('ignore', category=FutureWarning)\n",
    "\n",
    "\n",
    "# visualization\n",
    "\n",
    "import matplotlib.pyplot as plt\n",
    "import seaborn as sns"
   ]
  },
  {
   "cell_type": "code",
   "execution_count": 3,
   "id": "d3fc4e6d-5d73-49a8-bab4-9cd89ab410cd",
   "metadata": {},
   "outputs": [],
   "source": [
    "# import glob and os to get all the files\n",
    "\n",
    "import glob\n",
    "import os"
   ]
  },
  {
   "cell_type": "code",
   "execution_count": 4,
   "id": "e4138764-cc69-4924-8db6-2170d623189a",
   "metadata": {},
   "outputs": [],
   "source": [
    "path_to_files = '.\\data'"
   ]
  },
  {
   "cell_type": "code",
   "execution_count": 5,
   "id": "8f39727d-701d-4f76-88a9-6c2dc754f2e8",
   "metadata": {},
   "outputs": [
    {
     "name": "stdout",
     "output_type": "stream",
     "text": [
      "Directory Exists\n"
     ]
    }
   ],
   "source": [
    "# check directory\n",
    "if os.path.exists(path_to_files):\n",
    "    print('Directory Exists')\n",
    "else:\n",
    "    print('Directory does not exist')"
   ]
  },
  {
   "cell_type": "code",
   "execution_count": 6,
   "id": "f39c6a2c-e551-4009-a088-e571677a7e50",
   "metadata": {},
   "outputs": [],
   "source": [
    "# get all the tsv files\n",
    "tsv_files = glob.glob(os.path.join(path_to_files, '*.tsv'))"
   ]
  },
  {
   "cell_type": "code",
   "execution_count": 7,
   "id": "b8e838e5-5584-4194-8708-4cf401a07f2a",
   "metadata": {},
   "outputs": [
    {
     "name": "stdout",
     "output_type": "stream",
     "text": [
      "36\n"
     ]
    }
   ],
   "source": [
    "# check tsv files\n",
    "# tsv_files[0:3]\n",
    "print(len(tsv_files))"
   ]
  },
  {
   "cell_type": "code",
   "execution_count": 8,
   "id": "3b1ec2be-6d12-4e8b-aec5-94488e2142a3",
   "metadata": {},
   "outputs": [],
   "source": [
    "# define cols for importing data\n",
    "chosen_cols = ['product_category','star_rating','helpful_votes','total_votes','review_headline','review_body']\n",
    "\n",
    "dtype_dict = {\n",
    "    'product_category': str,\n",
    "    'star_rating': str,\n",
    "    'helpful_votes': str,\n",
    "    'total_votes': str,\n",
    "    'review_headline': str,\n",
    "    'review_body': str\n",
    "}"
   ]
  },
  {
   "cell_type": "code",
   "execution_count": 9,
   "id": "0b8b05be-0423-46b2-9299-37ae2b44fe71",
   "metadata": {},
   "outputs": [],
   "source": [
    "# define rating cols\n",
    "\n",
    "rating_col = 'star_rating'"
   ]
  },
  {
   "cell_type": "code",
   "execution_count": 10,
   "id": "2efb7f68-507b-409b-a10e-56dc7fd32df7",
   "metadata": {},
   "outputs": [],
   "source": [
    "# create a function to load all the datas\n",
    "\n",
    "def load_all(path, chosen_cols, rating_col, limit):\n",
    "\n",
    "    df = pd.read_csv(path, sep='\\t', usecols=chosen_cols, dtype=dtype_dict) # read the tsv files\n",
    "    df = df.groupby(rating_col, group_keys=False).apply(lambda x:x.head(limit))#limit for each rows using rating col\n",
    "    return df"
   ]
  },
  {
   "cell_type": "code",
   "execution_count": 11,
   "id": "5f8cc3e4-5a39-4d27-bd11-e23659cb88ff",
   "metadata": {},
   "outputs": [],
   "source": [
    "# empty list to store looping result\n",
    "all_df = []"
   ]
  },
  {
   "cell_type": "code",
   "execution_count": 12,
   "id": "57b58e59-aa01-455b-934a-ecfcf73db850",
   "metadata": {},
   "outputs": [
    {
     "name": "stdout",
     "output_type": "stream",
     "text": [
      ".\\data\\amazon_reviews_us_Apparel_v1_00.tsv has been processed\n",
      ".\\data\\amazon_reviews_us_Automotive_v1_00.tsv has been processed\n",
      ".\\data\\amazon_reviews_us_Baby_v1_00.tsv has been processed\n",
      ".\\data\\amazon_reviews_us_Beauty_v1_00.tsv has been processed\n",
      ".\\data\\amazon_reviews_us_Books_v1_02.tsv has been processed\n",
      ".\\data\\amazon_reviews_us_Camera_v1_00.tsv has been processed\n",
      ".\\data\\amazon_reviews_us_Digital_Ebook_Purchase_v1_01.tsv has been processed\n",
      ".\\data\\amazon_reviews_us_Digital_Music_Purchase_v1_00.tsv has been processed\n",
      ".\\data\\amazon_reviews_us_Digital_Software_v1_00.tsv has been processed\n",
      ".\\data\\amazon_reviews_us_Digital_Video_Download_v1_00.tsv has been processed\n",
      ".\\data\\amazon_reviews_us_Digital_Video_Games_v1_00.tsv has been processed\n",
      ".\\data\\amazon_reviews_us_Electronics_v1_00.tsv has been processed\n",
      ".\\data\\amazon_reviews_us_Furniture_v1_00.tsv has been processed\n",
      ".\\data\\amazon_reviews_us_Gift_Card_v1_00.tsv has been processed\n",
      ".\\data\\amazon_reviews_us_Grocery_v1_00.tsv has been processed\n",
      ".\\data\\amazon_reviews_us_Health_Personal_Care_v1_00.tsv has been processed\n",
      ".\\data\\amazon_reviews_us_Major_Appliances_v1_00.tsv has been processed\n",
      ".\\data\\amazon_reviews_us_Mobile_Apps_v1_00.tsv has been processed\n",
      ".\\data\\amazon_reviews_us_Mobile_Electronics_v1_00.tsv has been processed\n",
      ".\\data\\amazon_reviews_us_Musical_Instruments_v1_00.tsv has been processed\n",
      ".\\data\\amazon_reviews_us_Music_v1_00.tsv has been processed\n",
      ".\\data\\amazon_reviews_us_Office_Products_v1_00.tsv has been processed\n",
      ".\\data\\amazon_reviews_us_Outdoors_v1_00.tsv has been processed\n",
      ".\\data\\amazon_reviews_us_PC_v1_00.tsv has been processed\n",
      ".\\data\\amazon_reviews_us_Personal_Care_Appliances_v1_00.tsv has been processed\n",
      ".\\data\\amazon_reviews_us_Pet_Products_v1_00.tsv has been processed\n",
      ".\\data\\amazon_reviews_us_Shoes_v1_00.tsv has been processed\n",
      ".\\data\\amazon_reviews_us_Software_v1_00.tsv has been processed\n",
      ".\\data\\amazon_reviews_us_Sports_v1_00.tsv has been processed\n",
      ".\\data\\amazon_reviews_us_Tools_v1_00.tsv has been processed\n",
      ".\\data\\amazon_reviews_us_Toys_v1_00.tsv has been processed\n",
      ".\\data\\amazon_reviews_us_Video_DVD_v1_00.tsv has been processed\n",
      ".\\data\\amazon_reviews_us_Video_Games_v1_00.tsv has been processed\n",
      ".\\data\\amazon_reviews_us_Video_v1_00.tsv has been processed\n",
      ".\\data\\amazon_reviews_us_Watches_v1_00.tsv has been processed\n",
      ".\\data\\amazon_reviews_us_Wireless_v1_00.tsv has been processed\n"
     ]
    }
   ],
   "source": [
    "for file in tsv_files:\n",
    "    try:\n",
    "        df = load_all(file, chosen_cols, rating_col, limit=2500)\n",
    "        all_df.append(df)\n",
    "        print(f'{file} has been processed')\n",
    "    except:\n",
    "        print(f'Error processing file {file}')"
   ]
  },
  {
   "cell_type": "code",
   "execution_count": 13,
   "id": "9d50e97a-ad7b-4214-ac92-16e9d4403336",
   "metadata": {},
   "outputs": [],
   "source": [
    "# concatenate all the dataframe\n",
    "\n",
    "df_reviews = pd.concat(all_df, ignore_index=True)"
   ]
  },
  {
   "cell_type": "code",
   "execution_count": 14,
   "id": "3b365615-e625-4010-b560-7c04da41309e",
   "metadata": {},
   "outputs": [],
   "source": [
    "df_reviews.to_csv('ALL_REVIEWS.csv', sep='|')"
   ]
  }
 ],
 "metadata": {
  "kernelspec": {
   "display_name": "Python 3 (ipykernel)",
   "language": "python",
   "name": "python3"
  },
  "language_info": {
   "codemirror_mode": {
    "name": "ipython",
    "version": 3
   },
   "file_extension": ".py",
   "mimetype": "text/x-python",
   "name": "python",
   "nbconvert_exporter": "python",
   "pygments_lexer": "ipython3",
   "version": "3.10.11"
  }
 },
 "nbformat": 4,
 "nbformat_minor": 5
}
